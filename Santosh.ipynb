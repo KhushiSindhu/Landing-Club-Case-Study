{
 "cells": [
  {
   "cell_type": "code",
   "execution_count": null,
   "id": "aee15261",
   "metadata": {},
   "outputs": [],
   "source": [
    "#Import all the necessary libraries\n",
    "import pandas as pd\n",
    "import numpy as np\n",
    "import matplotlib.pyplot as plt"
   ]
  },
  {
   "cell_type": "markdown",
   "id": "2a4d8457",
   "metadata": {},
   "source": [
    "### I - Loan Dataset"
   ]
  },
  {
   "cell_type": "code",
   "execution_count": null,
   "id": "173208d6",
   "metadata": {},
   "outputs": [],
   "source": [
    "#Read the dataset \n",
    "loanData = pd.read_csv(\"loan.csv\",low_memory=False)\n",
    "\n",
    "# DtypeWarning: One of the column have mixed types.Hence set low_memory=False.\n"
   ]
  },
  {
   "cell_type": "code",
   "execution_count": null,
   "id": "f88f7e6f",
   "metadata": {},
   "outputs": [],
   "source": [
    "# Inspecting Data\n",
    "loanData.head()"
   ]
  },
  {
   "cell_type": "code",
   "execution_count": null,
   "id": "c798efa3",
   "metadata": {},
   "outputs": [],
   "source": [
    "# View Summary of the DataFrame.\n",
    "loanData.info()"
   ]
  },
  {
   "cell_type": "markdown",
   "id": "7e71d0a0",
   "metadata": {},
   "source": [
    " ### 2 -Data Handling and Cleaning"
   ]
  },
  {
   "cell_type": "markdown",
   "id": "5c8f6393",
   "metadata": {},
   "source": [
    "#### Data Quality Issues \n",
    " - Column 47 seems to be containing data of multiple dtype\n",
    " - At least 24 columns , seems to be of object type.\n",
    " - Multiple columns seems to have all null values.\n"
   ]
  },
  {
   "cell_type": "markdown",
   "id": "b8a7ceef",
   "metadata": {},
   "source": [
    "#### Treating Missing Values"
   ]
  },
  {
   "cell_type": "code",
   "execution_count": null,
   "id": "2ff4b604",
   "metadata": {},
   "outputs": [],
   "source": [
    "# Find the column names with all null values , so that we can discrad them off for analysis\n",
    "loanData.columns[loanData.isnull().all()].tolist() "
   ]
  },
  {
   "cell_type": "code",
   "execution_count": null,
   "id": "b4ed22bc",
   "metadata": {},
   "outputs": [],
   "source": [
    "#Droping columns with all null values\n",
    "loanData.dropna(axis=1,how='all',inplace=True)"
   ]
  },
  {
   "cell_type": "code",
   "execution_count": null,
   "id": "80cebb9a",
   "metadata": {
    "scrolled": true
   },
   "outputs": [],
   "source": [
    "#Check again the rows with values which are less represented \n",
    "loanData.isna().sum()"
   ]
  },
  {
   "cell_type": "markdown",
   "id": "423a1c9e",
   "metadata": {},
   "source": [
    "\n",
    "- Since Employer Title replaces Employer Name for all loans listed after 9/23/2013,Hence it contains inconsistant info. So, we will fill some default value for missing values.\n",
    "- There will be no use if we fill missing values in emp_length column based on some calculation, hence we will drop respective rows"
   ]
  },
  {
   "cell_type": "code",
   "execution_count": null,
   "id": "33d91578",
   "metadata": {},
   "outputs": [],
   "source": [
    "# Discrading rows containing emp_length as null\n",
    "loanData=loanData[~loanData.emp_length.isnull()]"
   ]
  },
  {
   "cell_type": "code",
   "execution_count": null,
   "id": "c6af03f9",
   "metadata": {},
   "outputs": [],
   "source": [
    "# Check the value of emp_length where emp_title is missing\n",
    "loanData['emp_length'][loanData['emp_title'].isnull()].value_counts()"
   ]
  },
  {
   "cell_type": "markdown",
   "id": "a3a79652",
   "metadata": {},
   "source": [
    "- Since emp_length is greater than 0 for missing emp_title, we can assume that these borrowers run their own small business or similar. Let's check if such title already exists for such borrowers. "
   ]
  },
  {
   "cell_type": "code",
   "execution_count": null,
   "id": "79bda210",
   "metadata": {},
   "outputs": [],
   "source": [
    "# Let's check the purpose of loan for null values in emp_title\n",
    "loanData['purpose'][loanData['emp_title'].isnull()].value_counts()"
   ]
  },
  {
   "cell_type": "code",
   "execution_count": null,
   "id": "22d59da3",
   "metadata": {},
   "outputs": [],
   "source": [
    "# Let's confirm we have \"Self Employed\" title to represent self owned business.\n",
    "loanData['emp_title'][loanData['emp_title']==\"Self Employed\"]"
   ]
  },
  {
   "cell_type": "code",
   "execution_count": null,
   "id": "4de01592",
   "metadata": {},
   "outputs": [],
   "source": [
    "# Fill null value with Self Employed\n",
    "loanData['emp_title']=loanData['emp_title'].apply(lambda x: \"Self Employed\" if pd.isnull(x) else x)\n",
    "\n",
    "loanData['emp_title']"
   ]
  },
  {
   "cell_type": "code",
   "execution_count": null,
   "id": "4165a470",
   "metadata": {},
   "outputs": [],
   "source": [
    "#Check again the rows with values which are less represented \n",
    "loanData.isna().sum()"
   ]
  },
  {
   "cell_type": "markdown",
   "id": "c57ca390",
   "metadata": {},
   "source": [
    "- The column 'desc' contains lots of null values and seems not useful as we already have separate column 'Purpose'. Similarly  'title' is also not useful .\n",
    "- The columns 'mths_since_last_record', 'next_pymnt_d', 'mths_since_last_delinq' , and 'mths_since_last_record' more than half of values as null.\n",
    "\n",
    "Hence we will drop these columns\n",
    "\n"
   ]
  },
  {
   "cell_type": "code",
   "execution_count": null,
   "id": "d877b38a",
   "metadata": {},
   "outputs": [],
   "source": [
    "#Droping columns with majorly null values.\n",
    "loanData.drop(columns = ['mths_since_last_record','next_pymnt_d','mths_since_last_delinq','mths_since_last_delinq','desc','title'],inplace=True)\n",
    "loanData.columns"
   ]
  },
  {
   "cell_type": "code",
   "execution_count": null,
   "id": "eced0cec",
   "metadata": {
    "scrolled": true
   },
   "outputs": [],
   "source": [
    "loanData.revol_util.value_counts()"
   ]
  },
  {
   "cell_type": "markdown",
   "id": "3b05a09e",
   "metadata": {},
   "source": [
    "- Since 'revol_util' have lots of distinct values , we can't fill null with other value. Hence we will drop the rows having null values ."
   ]
  },
  {
   "cell_type": "code",
   "execution_count": null,
   "id": "0c3fdae1",
   "metadata": {},
   "outputs": [],
   "source": [
    "# Discrading rows containing revol_util as null\n",
    "loanData=loanData[~loanData.revol_util.isnull()]"
   ]
  },
  {
   "cell_type": "code",
   "execution_count": null,
   "id": "577e608f",
   "metadata": {},
   "outputs": [],
   "source": [
    "# Clean the int_rate column and convert this to float\n",
    "loanData.revol_util= loanData.revol_util.apply(lambda x: x.replace(\"%\",\"\")).astype(\"float\")\n",
    "loanData.revol_util"
   ]
  },
  {
   "cell_type": "code",
   "execution_count": null,
   "id": "7a353839",
   "metadata": {},
   "outputs": [],
   "source": [
    "#Check again the rows with values which are less represented \n",
    "loanData.isna().sum()"
   ]
  },
  {
   "cell_type": "code",
   "execution_count": null,
   "id": "cd2fcfd0",
   "metadata": {},
   "outputs": [],
   "source": [
    "# Check the values of collections_12_mths_ex_med column\n",
    "loanData.collections_12_mths_ex_med.value_counts()"
   ]
  },
  {
   "cell_type": "code",
   "execution_count": null,
   "id": "0585b125",
   "metadata": {},
   "outputs": [],
   "source": [
    "# Check the values of pub_rec_bankruptcies column\n",
    "loanData.chargeoff_within_12_mths.value_counts()"
   ]
  },
  {
   "cell_type": "code",
   "execution_count": null,
   "id": "ea1c992e",
   "metadata": {},
   "outputs": [],
   "source": [
    "# Check the values of tax_liens column\n",
    "loanData.tax_liens.value_counts() "
   ]
  },
  {
   "cell_type": "markdown",
   "id": "b2142648",
   "metadata": {},
   "source": [
    "- As all values are equal to 0, these columns do not seem useful. So we can drop these from Dataframe"
   ]
  },
  {
   "cell_type": "code",
   "execution_count": null,
   "id": "c5a3ff11",
   "metadata": {},
   "outputs": [],
   "source": [
    "#Droping columns with unsignificant values.\n",
    "loanData.drop(columns = ['collections_12_mths_ex_med','chargeoff_within_12_mths','tax_liens'],inplace=True)\n",
    "loanData.columns"
   ]
  },
  {
   "cell_type": "code",
   "execution_count": null,
   "id": "0bc89dc1",
   "metadata": {},
   "outputs": [],
   "source": [
    "# Check the values of pub_rec_bankruptcies column\n",
    "loanData.pub_rec_bankruptcies.value_counts()"
   ]
  },
  {
   "cell_type": "code",
   "execution_count": null,
   "id": "a46e9652",
   "metadata": {
    "scrolled": true
   },
   "outputs": [],
   "source": [
    "# Let's fill null value of the pub_rec_bankruptcies with most occurring value 0.0\n",
    "loanData['pub_rec_bankruptcies']=loanData['pub_rec_bankruptcies'].apply(lambda x: 0 if pd.isnull(x) else x)\n",
    "\n",
    "loanData['pub_rec_bankruptcies']"
   ]
  },
  {
   "cell_type": "code",
   "execution_count": null,
   "id": "29cac0f1",
   "metadata": {},
   "outputs": [],
   "source": [
    "#checking if There are any duplicate records\n",
    "loanData.duplicated(['id']).sum()\n"
   ]
  },
  {
   "cell_type": "code",
   "execution_count": null,
   "id": "af1e47ce",
   "metadata": {},
   "outputs": [],
   "source": [
    "loanData.term.value_counts()"
   ]
  },
  {
   "cell_type": "code",
   "execution_count": null,
   "id": "5268a480",
   "metadata": {},
   "outputs": [],
   "source": [
    "# Clean the term column and convert this to float\n",
    "loanData.term= loanData.term.apply(lambda x: x.split(\" \")[1]).astype(\"float\")\n",
    "loanData.term"
   ]
  },
  {
   "cell_type": "code",
   "execution_count": null,
   "id": "e86e3b16",
   "metadata": {},
   "outputs": [],
   "source": [
    "# Check interest rate type\n",
    "loanData.int_rate.value_counts()"
   ]
  },
  {
   "cell_type": "code",
   "execution_count": null,
   "id": "cc7dc773",
   "metadata": {},
   "outputs": [],
   "source": [
    "# Clean the int_rate column and convert this to float\n",
    "loanData.int_rate= loanData.int_rate.apply(lambda x: x.replace(\"%\",\"\")).astype(\"float\")\n",
    "loanData.int_rate"
   ]
  },
  {
   "cell_type": "code",
   "execution_count": null,
   "id": "a7219d86",
   "metadata": {},
   "outputs": [],
   "source": [
    "# \n",
    "loanData=loanData[loanData['loan_status']!=\"Current\"]\n",
    "loanData"
   ]
  },
  {
   "cell_type": "code",
   "execution_count": null,
   "id": "5ac8ef13",
   "metadata": {},
   "outputs": [],
   "source": [
    "loanData['last_credit_pull_d'].value_counts()"
   ]
  },
  {
   "cell_type": "code",
   "execution_count": null,
   "id": "624e8ac1",
   "metadata": {},
   "outputs": [],
   "source": [
    "loanData[loanData['last_credit_pull_d'].isna()]"
   ]
  },
  {
   "cell_type": "code",
   "execution_count": null,
   "id": "49e6bb86",
   "metadata": {},
   "outputs": [],
   "source": [
    "# plt.boxplot(loanData.int_rate)\n",
    "# plt.show()"
   ]
  },
  {
   "cell_type": "code",
   "execution_count": null,
   "id": "4bafb708",
   "metadata": {},
   "outputs": [],
   "source": [
    "#Checking  outliers\n",
    "loanData[['loan_status']][loanData.int_rate>23]"
   ]
  },
  {
   "cell_type": "code",
   "execution_count": null,
   "id": "061a9573",
   "metadata": {},
   "outputs": [],
   "source": [
    "#Checking outliers\n",
    "plt.boxplot(loanData.loan_amnt)\n",
    "plt.show()"
   ]
  },
  {
   "cell_type": "code",
   "execution_count": null,
   "id": "ecfb2038",
   "metadata": {},
   "outputs": [],
   "source": [
    "loanData[loanData.loan_amnt>=31000]"
   ]
  },
  {
   "cell_type": "code",
   "execution_count": null,
   "id": "f100637c",
   "metadata": {},
   "outputs": [],
   "source": [
    "plt.hist(loanData.loan_amnt,bins=7)\n",
    "plt.show()"
   ]
  },
  {
   "cell_type": "code",
   "execution_count": null,
   "id": "b6b92b1c",
   "metadata": {},
   "outputs": [],
   "source": [
    "#Plot a pie chart\n",
    "loanData['loan_status'].value_counts().plot.pie()\n",
    "plt.show()"
   ]
  },
  {
   "cell_type": "code",
   "execution_count": null,
   "id": "f0fdf168",
   "metadata": {},
   "outputs": [],
   "source": []
  }
 ],
 "metadata": {
  "kernelspec": {
   "display_name": "Python 3 (ipykernel)",
   "language": "python",
   "name": "python3"
  },
  "language_info": {
   "codemirror_mode": {
    "name": "ipython",
    "version": 3
   },
   "file_extension": ".py",
   "mimetype": "text/x-python",
   "name": "python",
   "nbconvert_exporter": "python",
   "pygments_lexer": "ipython3",
   "version": "3.9.7"
  }
 },
 "nbformat": 4,
 "nbformat_minor": 5
}
