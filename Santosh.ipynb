{
 "cells": [
  {
   "cell_type": "code",
   "execution_count": null,
   "id": "aee15261",
   "metadata": {},
   "outputs": [],
   "source": [
    "#Import all the necessary libraries\n",
    "import pandas as pd\n",
    "import numpy as np\n",
    "import matplotlib.pyplot as plt"
   ]
  },
  {
   "cell_type": "markdown",
   "id": "2a4d8457",
   "metadata": {},
   "source": [
    "### I - Loan Dataset"
   ]
  },
  {
   "cell_type": "code",
   "execution_count": null,
   "id": "173208d6",
   "metadata": {},
   "outputs": [],
   "source": [
    "#Read the dataset \n",
    "loanData = pd.read_csv(\"loan.csv\",low_memory=False)\n",
    "\n",
    "# DtypeWarning: One of the column have mixed types.Hence set low_memory=False.\n"
   ]
  },
  {
   "cell_type": "code",
   "execution_count": null,
   "id": "e72eeb0a",
   "metadata": {},
   "outputs": [],
   "source": [
    "\n",
    "# Inspecting Data\n",
    "\n",
    "loanData.head()"
   ]
  },
  {
   "cell_type": "code",
   "execution_count": null,
   "id": "c798efa3",
   "metadata": {},
   "outputs": [],
   "source": [
    "# Summary of a DataFrame.\n",
    "loanData.info()"
   ]
  },
  {
   "cell_type": "code",
   "execution_count": null,
   "id": "ab508712",
   "metadata": {},
   "outputs": [],
   "source": [
    "# Find the column names with all null values , so that we can discrad them off for analysis\n",
    "loanData.columns[loanData.isnull().all()].tolist() "
   ]
  },
  {
   "cell_type": "markdown",
   "id": "7e71d0a0",
   "metadata": {},
   "source": [
    " ### 2 -Data Handling and Cleaning"
   ]
  },
  {
   "cell_type": "markdown",
   "id": "5c8f6393",
   "metadata": {},
   "source": [
    "#### Data Quality Issues \n",
    " - Column 47 seems to be containing data of multiple dtype\n",
    " - At least 24 columns , seems to be of object type.\n",
    " - Multiple columns seems to have all null values.\n"
   ]
  },
  {
   "cell_type": "markdown",
   "id": "46a4e341",
   "metadata": {},
   "source": [
    "#### Treating Missing Values"
   ]
  },
  {
   "cell_type": "code",
   "execution_count": null,
   "id": "b4ed22bc",
   "metadata": {},
   "outputs": [],
   "source": [
    "#Droping columns with all null values\n",
    "loanData.dropna(axis=1,how='all',inplace=True)"
   ]
  },
  {
   "cell_type": "code",
   "execution_count": null,
   "id": "80cebb9a",
   "metadata": {},
   "outputs": [],
   "source": [
    "#Check again the rows with values which are less represented \n",
    "loanData.isna().sum()"
   ]
  },
  {
   "cell_type": "markdown",
   "id": "33ba1377",
   "metadata": {},
   "source": [
    "- The column 'desc' contains lots of null values and seems not useful as we already have separate column 'Purpose'. Similarly  'title' is also not useful \n",
    "- The column 'funded_amnt_inv' is duplicate \n"
   ]
  },
  {
   "cell_type": "code",
   "execution_count": null,
   "id": "3171b48b",
   "metadata": {},
   "outputs": [],
   "source": [
    "#Droping columns with majorly null values.\n",
    "loanData.drop(columns = ['funded_amnt_inv','desc','title'],inplace=True)\n",
    "loanData"
   ]
  },
  {
   "cell_type": "markdown",
   "id": "2654418a",
   "metadata": {},
   "source": [
    "- Employer Title replaces Employer Name for all loans listed after 9/23/2013, Hence we will fill missing values for this column based on this info"
   ]
  },
  {
   "cell_type": "code",
   "execution_count": null,
   "id": "b2d304dd",
   "metadata": {},
   "outputs": [],
   "source": [
    "loanData=loanData[~( ( loanData.emp_title.isnull() ) & ( loanData.emp_length.isnull() ) )]"
   ]
  },
  {
   "cell_type": "code",
   "execution_count": null,
   "id": "f34d75bd",
   "metadata": {},
   "outputs": [],
   "source": [
    "loanData['emp_title']=loanData['emp_title'].apply(lambda x: \"Unnamed\" if pd.isnull(x) else x)"
   ]
  },
  {
   "cell_type": "markdown",
   "id": "9b196e85",
   "metadata": {},
   "source": [
    "- Since 'mths_since_last_delinq' and 'delinq_2yrs' are related , we can conclude value 0 for n/a values of   mths_since_last_delinq"
   ]
  },
  {
   "cell_type": "code",
   "execution_count": null,
   "id": "01a6c059",
   "metadata": {
    "scrolled": true
   },
   "outputs": [],
   "source": [
    "loanData['mths_since_last_delinq']=loanData['mths_since_last_delinq'].apply(lambda x: 0 if pd.isnull(x) else x)"
   ]
  },
  {
   "cell_type": "code",
   "execution_count": null,
   "id": "7a353839",
   "metadata": {},
   "outputs": [],
   "source": [
    "#Check again the rows with values which are less represented \n",
    "loanData.isna().sum()"
   ]
  },
  {
   "cell_type": "code",
   "execution_count": null,
   "id": "19cf7b8e",
   "metadata": {},
   "outputs": [],
   "source": [
    "loanData.last_pymnt_d.value_counts()"
   ]
  },
  {
   "cell_type": "code",
   "execution_count": null,
   "id": "1b1cde2c",
   "metadata": {},
   "outputs": [],
   "source": [
    "loanData.next_pymnt_d.value_counts()"
   ]
  },
  {
   "cell_type": "code",
   "execution_count": null,
   "id": "a0d2e308",
   "metadata": {},
   "outputs": [],
   "source": [
    "#Checking rows where both next_pymnt_d and last_pymnt_d are NA\n",
    "loanData[['issue_d','last_credit_pull_d','last_pymnt_d','term']][loanData.next_pymnt_d.isna() & loanData.last_pymnt_d.isna()]"
   ]
  },
  {
   "cell_type": "code",
   "execution_count": null,
   "id": "57545e58",
   "metadata": {},
   "outputs": [],
   "source": [
    "# We can calculate last_payment_d for null values based on term length"
   ]
  },
  {
   "cell_type": "code",
   "execution_count": null,
   "id": "2c9745b6",
   "metadata": {},
   "outputs": [],
   "source": [
    "loanData[['last_pymnt_d','next_pymnt_d']][~loanData.next_pymnt_d.isna()].value_counts()"
   ]
  },
  {
   "cell_type": "code",
   "execution_count": null,
   "id": "6239b3cc",
   "metadata": {},
   "outputs": [],
   "source": [
    "#checking if There are any duplicate records\n",
    "loanData.duplicated(['id']).sum()\n"
   ]
  },
  {
   "cell_type": "code",
   "execution_count": null,
   "id": "d6585b9a",
   "metadata": {},
   "outputs": [],
   "source": [
    "# Describing Data\n",
    "loanData.info()"
   ]
  },
  {
   "cell_type": "code",
   "execution_count": null,
   "id": "af1e47ce",
   "metadata": {},
   "outputs": [],
   "source": [
    "loanData.term.value_counts()"
   ]
  },
  {
   "cell_type": "code",
   "execution_count": null,
   "id": "f6231c39",
   "metadata": {},
   "outputs": [],
   "source": [
    "# Clean the term column and convert this to float\n",
    "loanData.term= loanData.term.apply(lambda x: x.split(\" \")[1]).astype(\"float\")\n",
    "loanData.term"
   ]
  },
  {
   "cell_type": "code",
   "execution_count": null,
   "id": "3705a0a3",
   "metadata": {},
   "outputs": [],
   "source": [
    "# Check interest rate type\n",
    "loanData.int_rate.value_counts()"
   ]
  },
  {
   "cell_type": "code",
   "execution_count": null,
   "id": "662f629c",
   "metadata": {},
   "outputs": [],
   "source": [
    "# Clean the int_rate column and convert this to float\n",
    "loanData.int_rate= loanData.int_rate.apply(lambda x: x.replace(\"%\",\"\")).astype(\"float\")\n",
    "loanData.int_rate"
   ]
  },
  {
   "cell_type": "code",
   "execution_count": null,
   "id": "5ac8ef13",
   "metadata": {},
   "outputs": [],
   "source": [
    "loanData['last_credit_pull_d'].value_counts()"
   ]
  },
  {
   "cell_type": "code",
   "execution_count": null,
   "id": "624e8ac1",
   "metadata": {},
   "outputs": [],
   "source": [
    "loanData[loanData['last_credit_pull_d'].isna()]"
   ]
  },
  {
   "cell_type": "code",
   "execution_count": null,
   "id": "fffb4835",
   "metadata": {},
   "outputs": [],
   "source": [
    "loanData[loanData['collections_12_mths_ex_med'].isna()]"
   ]
  },
  {
   "cell_type": "code",
   "execution_count": null,
   "id": "0a909e34",
   "metadata": {},
   "outputs": [],
   "source": [
    "plt.boxplot(loanData.int_rate)\n",
    "plt.show()"
   ]
  },
  {
   "cell_type": "code",
   "execution_count": null,
   "id": "8ef925aa",
   "metadata": {},
   "outputs": [],
   "source": [
    "#Checking  outliers\n",
    "loanData[['loan_status']][loanData.int_rate>23]"
   ]
  },
  {
   "cell_type": "code",
   "execution_count": null,
   "id": "beecc1e5",
   "metadata": {},
   "outputs": [],
   "source": [
    "#Checking outliers\n",
    "plt.boxplot(loanData.loan_amnt)\n",
    "plt.show()"
   ]
  },
  {
   "cell_type": "code",
   "execution_count": null,
   "id": "6b1b5eca",
   "metadata": {},
   "outputs": [],
   "source": [
    "loanData[loanData.loan_amnt>=31000]"
   ]
  },
  {
   "cell_type": "code",
   "execution_count": null,
   "id": "643697a6",
   "metadata": {},
   "outputs": [],
   "source": [
    "plt.hist(loanData.loan_amnt,bins=7)\n",
    "plt.show()"
   ]
  },
  {
   "cell_type": "code",
   "execution_count": null,
   "id": "0bd84280",
   "metadata": {},
   "outputs": [],
   "source": [
    "#Plot a pie chart\n",
    "loanData['loan_status'].value_counts().plot.pie()\n",
    "plt.show()"
   ]
  },
  {
   "cell_type": "code",
   "execution_count": null,
   "id": "d01e22b3",
   "metadata": {},
   "outputs": [],
   "source": []
  }
 ],
 "metadata": {
  "kernelspec": {
   "display_name": "Python 3 (ipykernel)",
   "language": "python",
   "name": "python3"
  },
  "language_info": {
   "codemirror_mode": {
    "name": "ipython",
    "version": 3
   },
   "file_extension": ".py",
   "mimetype": "text/x-python",
   "name": "python",
   "nbconvert_exporter": "python",
   "pygments_lexer": "ipython3",
   "version": "3.9.7"
  }
 },
 "nbformat": 4,
 "nbformat_minor": 5
}
