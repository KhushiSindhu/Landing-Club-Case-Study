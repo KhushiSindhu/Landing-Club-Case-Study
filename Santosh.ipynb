{
 "cells": [
  {
   "cell_type": "code",
   "execution_count": null,
   "id": "aee15261",
   "metadata": {},
   "outputs": [],
   "source": [
    "#Import all the necessary libraries\n",
    "import pandas as pd\n",
    "import numpy as np\n",
    "import matplotlib.pyplot as plt"
   ]
  },
  {
   "cell_type": "markdown",
   "id": "2a4d8457",
   "metadata": {},
   "source": [
    "### I - Loan Dataset"
   ]
  },
  {
   "cell_type": "code",
   "execution_count": null,
   "id": "173208d6",
   "metadata": {},
   "outputs": [],
   "source": [
    "#Read the dataset \n",
    "loanData = pd.read_csv(\"loan.csv\",low_memory=False)\n",
    "\n",
    "# DtypeWarning: One of the column have mixed types.Hence set low_memory=False.\n"
   ]
  },
  {
   "cell_type": "code",
   "execution_count": null,
   "id": "01ce28d2",
   "metadata": {},
   "outputs": [],
   "source": [
    "# Inspecting Data\n",
    "loanData.head()"
   ]
  },
  {
   "cell_type": "code",
   "execution_count": null,
   "id": "c798efa3",
   "metadata": {},
   "outputs": [],
   "source": [
    "# View Summary of the DataFrame.\n",
    "loanData.info()"
   ]
  },
  {
   "cell_type": "markdown",
   "id": "7e71d0a0",
   "metadata": {},
   "source": [
    " ### 2 -Data Handling and Cleaning"
   ]
  },
  {
   "cell_type": "markdown",
   "id": "5c8f6393",
   "metadata": {},
   "source": [
    "#### Data Quality Issues \n",
    " - Column 47 seems to be containing data of multiple dtype\n",
    " - At least 24 columns , seems to be of object type.\n",
    " - Multiple columns seems to have all null values.\n"
   ]
  },
  {
   "cell_type": "markdown",
   "id": "a39a2024",
   "metadata": {},
   "source": [
    "#### Treating Missing Values"
   ]
  },
  {
   "cell_type": "code",
   "execution_count": null,
   "id": "deeddffe",
   "metadata": {},
   "outputs": [],
   "source": [
    "# Find the column names with all null values , so that we can discrad them off for analysis\n",
    "loanData.columns[loanData.isnull().all()].tolist() "
   ]
  },
  {
   "cell_type": "code",
   "execution_count": null,
   "id": "b4ed22bc",
   "metadata": {},
   "outputs": [],
   "source": [
    "#Droping columns with all null values\n",
    "loanData.dropna(axis=1,how='all',inplace=True)"
   ]
  },
  {
   "cell_type": "code",
   "execution_count": null,
   "id": "80cebb9a",
   "metadata": {
    "scrolled": true
   },
   "outputs": [],
   "source": [
    "#Check again the rows with values which are less represented \n",
    "loanData.isna().sum()"
   ]
  },
  {
   "cell_type": "markdown",
   "id": "b0f39898",
   "metadata": {},
   "source": [
    "\n",
    "- Since Employer Title replaces Employer Name for all loans listed after 9/23/2013,Hence it contains inconsistant info. So, we will fill some default value for missing values.\n",
    "- There will be no use if we fill missing values in emp_length column based on some calculation, hence we will drop respective rows"
   ]
  },
  {
   "cell_type": "code",
   "execution_count": null,
   "id": "b2d84104",
   "metadata": {},
   "outputs": [],
   "source": [
    "# Discrading rows containing emp_length as null\n",
    "loanData=loanData[~loanData.emp_length.isnull()]"
   ]
  },
  {
   "cell_type": "code",
   "execution_count": null,
   "id": "ef51e117",
   "metadata": {},
   "outputs": [],
   "source": [
    "# Check the value of emp_length where emp_title is missing\n",
    "loanData['emp_length'][loanData['emp_title'].isnull()].value_counts()"
   ]
  },
  {
   "cell_type": "markdown",
   "id": "f5a33e15",
   "metadata": {},
   "source": [
    "- Since emp_length is greater than 0 for missing emp_title, we can assume that these borrowers run their own small business or similar. Let's check if such title already exists for such borrowers. "
   ]
  },
  {
   "cell_type": "code",
   "execution_count": null,
   "id": "23c4c186",
   "metadata": {},
   "outputs": [],
   "source": [
    "# Let's check the purpose of loan for null values in emp_title\n",
    "loanData['purpose'][loanData['emp_title'].isnull()].value_counts()"
   ]
  },
  {
   "cell_type": "code",
   "execution_count": null,
   "id": "876043ac",
   "metadata": {},
   "outputs": [],
   "source": [
    "# Let's confirm we have \"Self Employed\" title to represent self owned business.\n",
    "loanData['emp_title'][loanData['emp_title']==\"Self Employed\"]"
   ]
  },
  {
   "cell_type": "code",
   "execution_count": null,
   "id": "53fa061d",
   "metadata": {},
   "outputs": [],
   "source": [
    "# Fill null value with Self Employed\n",
    "loanData['emp_title']=loanData['emp_title'].apply(lambda x: \"Self Employed\" if pd.isnull(x) else x)\n",
    "\n",
    "loanData['emp_title']"
   ]
  },
  {
   "cell_type": "code",
   "execution_count": null,
   "id": "2f9ba170",
   "metadata": {},
   "outputs": [],
   "source": [
    "# let's clean emp_length column by replacing < 1to 0 and 10+ to 11\n",
    "loanData['emp_length']=loanData['emp_length'].apply(lambda x: 0 if \"<\" in x else 11 if \"+\" in x else x.split(' ')[0] )\n",
    "loanData['emp_length'].value_counts()\n"
   ]
  },
  {
   "cell_type": "code",
   "execution_count": null,
   "id": "593f5fb7",
   "metadata": {},
   "outputs": [],
   "source": [
    "#Check again the rows with values which are less represented \n",
    "loanData.isna().sum()"
   ]
  },
  {
   "cell_type": "code",
   "execution_count": null,
   "id": "d9e8d345",
   "metadata": {
    "scrolled": true
   },
   "outputs": [],
   "source": [
    "loanData.revol_util.value_counts()"
   ]
  },
  {
   "cell_type": "markdown",
   "id": "c734d9b2",
   "metadata": {},
   "source": [
    "- Since 'revol_util' have lots of distinct values , we can't fill null with other value. Hence we will drop the rows having null values ."
   ]
  },
  {
   "cell_type": "code",
   "execution_count": null,
   "id": "7fc9bec9",
   "metadata": {},
   "outputs": [],
   "source": [
    "# Discrading rows containing revol_util as null\n",
    "loanData=loanData[~loanData.revol_util.isnull()]"
   ]
  },
  {
   "cell_type": "code",
   "execution_count": null,
   "id": "914ffd50",
   "metadata": {},
   "outputs": [],
   "source": [
    "# Clean the int_rate column and convert this to float\n",
    "loanData.revol_util= loanData.revol_util.apply(lambda x: x.replace(\"%\",\"\")).astype(\"float\")\n",
    "loanData.revol_util"
   ]
  },
  {
   "cell_type": "markdown",
   "id": "c38bec0d",
   "metadata": {},
   "source": [
    "- Let's fill missing values for pub_rec_bankruptcies"
   ]
  },
  {
   "cell_type": "code",
   "execution_count": null,
   "id": "2e461acd",
   "metadata": {},
   "outputs": [],
   "source": [
    "# Check the values of pub_rec_bankruptcies column\n",
    "loanData.pub_rec_bankruptcies.value_counts()"
   ]
  },
  {
   "cell_type": "code",
   "execution_count": null,
   "id": "f945debc",
   "metadata": {
    "scrolled": true
   },
   "outputs": [],
   "source": [
    "# Let's fill null value of the pub_rec_bankruptcies with most occurring value 0.0\n",
    "loanData['pub_rec_bankruptcies']=loanData['pub_rec_bankruptcies'].apply(lambda x: 0 if pd.isnull(x) else x)\n",
    "\n",
    "loanData['pub_rec_bankruptcies']"
   ]
  },
  {
   "cell_type": "code",
   "execution_count": null,
   "id": "34334fcd",
   "metadata": {},
   "outputs": [],
   "source": [
    "# Check the values of term coulmn\n",
    "loanData.term.value_counts()"
   ]
  },
  {
   "cell_type": "code",
   "execution_count": null,
   "id": "8b1de125",
   "metadata": {},
   "outputs": [],
   "source": [
    "# Clean the term column and convert this to float\n",
    "loanData.term= loanData.term.apply(lambda x: x.split(\" \")[1]).astype(\"float\")\n",
    "loanData.term"
   ]
  },
  {
   "cell_type": "code",
   "execution_count": null,
   "id": "144d1cc2",
   "metadata": {},
   "outputs": [],
   "source": [
    "# Check interest rate type\n",
    "loanData.int_rate.value_counts()"
   ]
  },
  {
   "cell_type": "code",
   "execution_count": null,
   "id": "485dd808",
   "metadata": {},
   "outputs": [],
   "source": [
    "# Clean the int_rate column and convert this to float\n",
    "loanData.int_rate= loanData.int_rate.apply(lambda x: x.replace(\"%\",\"\")).astype(\"float\")\n",
    "loanData.int_rate"
   ]
  },
  {
   "cell_type": "code",
   "execution_count": null,
   "id": "04a4ac7a",
   "metadata": {},
   "outputs": [],
   "source": [
    "# Dropping all rows with loan status as current , because we don't know their tendancy to default.\n",
    "loanData=loanData[loanData['loan_status']!=\"Current\"]\n",
    "loanData"
   ]
  },
  {
   "cell_type": "code",
   "execution_count": null,
   "id": "407a02b5",
   "metadata": {},
   "outputs": [],
   "source": [
    "loanData['last_credit_pull_d'].value_counts()"
   ]
  },
  {
   "cell_type": "code",
   "execution_count": null,
   "id": "19af95b2",
   "metadata": {},
   "outputs": [],
   "source": [
    "#Droping riws with missing value\n",
    "laonData=loanData[~loanData['last_credit_pull_d'].isna()]"
   ]
  },
  {
   "cell_type": "markdown",
   "id": "1cb47113",
   "metadata": {},
   "source": [
    "#### Treating insignificant columns"
   ]
  },
  {
   "cell_type": "markdown",
   "id": "12009ade",
   "metadata": {},
   "source": [
    "- The column 'desc' contains lots of null values and seems not useful as we already have separate column 'Purpose'. Similarly  'title' is also not useful .\n",
    "\n",
    "- The columns 'url','id','member_id' etc, are also not useful in depicting the behaviour of being default.\n",
    "\n",
    "- Since 'funded_amnt' and 'funded_amnt_inv' are what ultimately at stake from FC, we are not bothered about 'loan_amnt'.\n",
    "\n",
    "\n",
    "- Hence we will drop all insignificant columns\n",
    "\n"
   ]
  },
  {
   "cell_type": "code",
   "execution_count": null,
   "id": "5a6e7242",
   "metadata": {},
   "outputs": [],
   "source": [
    "#Droping insignificant columns.\n",
    "loanData.drop(columns = ['desc','title','url','id','member_id','loan_amnt'],inplace=True)\n",
    "loanData.columns"
   ]
  },
  {
   "cell_type": "code",
   "execution_count": null,
   "id": "075d20a5",
   "metadata": {},
   "outputs": [],
   "source": [
    "#Check again the rows with values which are less represented \n",
    "loanData.isna().sum()"
   ]
  },
  {
   "cell_type": "markdown",
   "id": "e8ea6d4a",
   "metadata": {},
   "source": [
    "#### Treating Columns with majority of null or partial values"
   ]
  },
  {
   "cell_type": "markdown",
   "id": "a87eae0c",
   "metadata": {},
   "source": [
    "- The columns 'mths_since_last_record', 'next_pymnt_d', 'mths_since_last_delinq' , and 'mths_since_last_record' more than half(50%) of values as null."
   ]
  },
  {
   "cell_type": "code",
   "execution_count": null,
   "id": "e0700271",
   "metadata": {},
   "outputs": [],
   "source": [
    "#Droping columns with majorly null values.\n",
    "loanData.drop(columns = ['mths_since_last_record','next_pymnt_d','mths_since_last_delinq'],inplace=True)\n",
    "loanData.columns"
   ]
  },
  {
   "cell_type": "code",
   "execution_count": null,
   "id": "a0064974",
   "metadata": {},
   "outputs": [],
   "source": [
    "#Check values of zip code\n",
    "loanData.zip_code.value_counts()"
   ]
  },
  {
   "cell_type": "markdown",
   "id": "16c69dc3",
   "metadata": {},
   "source": [
    "- Partial values of Zip codes available, hence we will drop this cloumn"
   ]
  },
  {
   "cell_type": "code",
   "execution_count": null,
   "id": "1a1f683d",
   "metadata": {},
   "outputs": [],
   "source": [
    "#Droping columns with majorly null values.\n",
    "loanData.drop(columns = ['zip_code'],inplace=True)\n",
    "loanData.columns"
   ]
  },
  {
   "cell_type": "markdown",
   "id": "b741fe61",
   "metadata": {},
   "source": [
    "#### Treating Single valued Columns"
   ]
  },
  {
   "cell_type": "code",
   "execution_count": null,
   "id": "69395787",
   "metadata": {},
   "outputs": [],
   "source": [
    "# Check the values of pymnt_plan column\n",
    "loanData.pymnt_plan.value_counts()"
   ]
  },
  {
   "cell_type": "code",
   "execution_count": null,
   "id": "e8b859a5",
   "metadata": {},
   "outputs": [],
   "source": [
    "# Check the values of collections_12_mths_ex_med column\n",
    "loanData.collections_12_mths_ex_med.value_counts()"
   ]
  },
  {
   "cell_type": "code",
   "execution_count": null,
   "id": "d2423ea2",
   "metadata": {},
   "outputs": [],
   "source": [
    "# Check the values of pub_rec_bankruptcies column\n",
    "loanData.chargeoff_within_12_mths.value_counts()"
   ]
  },
  {
   "cell_type": "code",
   "execution_count": null,
   "id": "c973371a",
   "metadata": {},
   "outputs": [],
   "source": [
    "# Check the values of tax_liens column\n",
    "loanData.tax_liens.value_counts() "
   ]
  },
  {
   "cell_type": "code",
   "execution_count": null,
   "id": "20b26343",
   "metadata": {},
   "outputs": [],
   "source": [
    "#Check the values of acc_now_delinq column\n",
    "loanData.acc_now_delinq.value_counts() "
   ]
  },
  {
   "cell_type": "code",
   "execution_count": null,
   "id": "ff1ec555",
   "metadata": {},
   "outputs": [],
   "source": [
    "#Check the values of initial_list_status column\n",
    "loanData.initial_list_status.value_counts() "
   ]
  },
  {
   "cell_type": "code",
   "execution_count": null,
   "id": "37646d0e",
   "metadata": {},
   "outputs": [],
   "source": [
    "#Check the values of policy_code column\n",
    "loanData.policy_code.value_counts() "
   ]
  },
  {
   "cell_type": "code",
   "execution_count": null,
   "id": "3ffe9e9b",
   "metadata": {},
   "outputs": [],
   "source": [
    "#Check the values of delinq_amnt column\n",
    "loanData.delinq_amnt.value_counts() "
   ]
  },
  {
   "cell_type": "code",
   "execution_count": null,
   "id": "0c1a2506",
   "metadata": {},
   "outputs": [],
   "source": [
    "#Check the values of application_type column\n",
    "loanData.application_type.value_counts() "
   ]
  },
  {
   "cell_type": "markdown",
   "id": "c20574fb",
   "metadata": {},
   "source": [
    "\n",
    "- As all values for above columns are equal to 0 or n or single valued, these columns do not seem useful. So we can drop these from Dataframe"
   ]
  },
  {
   "cell_type": "code",
   "execution_count": null,
   "id": "d4d4aef8",
   "metadata": {},
   "outputs": [],
   "source": [
    "#Droping columns with 0 or n or single values.\n",
    "loanData.drop(columns = ['collections_12_mths_ex_med','chargeoff_within_12_mths','tax_liens','pymnt_plan','acc_now_delinq','initial_list_status','policy_code','delinq_amnt','application_type'],inplace=True)\n",
    "loanData.columns"
   ]
  },
  {
   "cell_type": "markdown",
   "id": "1746362c",
   "metadata": {},
   "source": [
    " ### 3 - Data Visualizing , Treating outliers and Analysis"
   ]
  },
  {
   "cell_type": "code",
   "execution_count": null,
   "id": "7b1cdc63",
   "metadata": {},
   "outputs": [],
   "source": [
    " plt.boxplot(loanData.int_rate)\n",
    " plt.show()"
   ]
  },
  {
   "cell_type": "code",
   "execution_count": null,
   "id": "2b1df695",
   "metadata": {},
   "outputs": [],
   "source": [
    "#Checking  outliers\n",
    "loanData[['loan_status']][loanData.int_rate>23]"
   ]
  },
  {
   "cell_type": "code",
   "execution_count": null,
   "id": "7dcce592",
   "metadata": {},
   "outputs": [],
   "source": [
    "#Checking outliers\n",
    "plt.boxplot(loanData.funded_amnt)\n",
    "plt.show()"
   ]
  },
  {
   "cell_type": "code",
   "execution_count": null,
   "id": "999062b4",
   "metadata": {},
   "outputs": [],
   "source": [
    "loanData[loanData.funded_amnt>=31000]"
   ]
  },
  {
   "cell_type": "code",
   "execution_count": null,
   "id": "546ebb9a",
   "metadata": {},
   "outputs": [],
   "source": [
    "plt.hist(loanData.funded_amnt,bins=7)\n",
    "plt.show()"
   ]
  },
  {
   "cell_type": "code",
   "execution_count": null,
   "id": "acca3684",
   "metadata": {},
   "outputs": [],
   "source": [
    "#Plot a pie chart\n",
    "loanData['loan_status'].value_counts().plot.pie()\n",
    "plt.show()"
   ]
  },
  {
   "cell_type": "code",
   "execution_count": null,
   "id": "464f7cb8",
   "metadata": {},
   "outputs": [],
   "source": []
  }
 ],
 "metadata": {
  "kernelspec": {
   "display_name": "Python 3 (ipykernel)",
   "language": "python",
   "name": "python3"
  },
  "language_info": {
   "codemirror_mode": {
    "name": "ipython",
    "version": 3
   },
   "file_extension": ".py",
   "mimetype": "text/x-python",
   "name": "python",
   "nbconvert_exporter": "python",
   "pygments_lexer": "ipython3",
   "version": "3.9.7"
  }
 },
 "nbformat": 4,
 "nbformat_minor": 5
}
